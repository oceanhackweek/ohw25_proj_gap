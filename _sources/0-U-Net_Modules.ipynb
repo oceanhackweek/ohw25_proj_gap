{
 "cells": [
  {
   "cell_type": "markdown",
   "id": "41381aaa-bf08-4dce-b7cf-a25931b1af66",
   "metadata": {},
   "source": [
    "# Modules used\n",
    "These are the Python modules used in the U-Net tutuorial.\n"
   ]
  },
  {
   "cell_type": "markdown",
   "id": "83c5d64c-f327-48f0-9017-8766884ad65f",
   "metadata": {},
   "source": [
    "## Library imports\n",
    "\n",
    "We will be using the following libraries:\n",
    "- `import numpy as np`: NumPy is a fundamental library for scientific computing in Python. It provides support for multidimensional arrays, matrices, and many fast mathematical operations tomanipulate these data structures. We use NumPy for array operations and data processing. \n",
    "- `import dask.array as da`: Dask is a parallel computing library that handles large datasets, and dask array allows parallel computation coordinating a collection of NumPy arrays, which greatly improves efficiency. We use Dask array for more efficient computation of larger data.\n",
    "- `import xarray as xr`: Xarray is designed for working with labeled multi-dimensional arrays, commonly used in scientific data analysis, particularly in fields like oceanography and climate science. It extends the capabilities of NumPy arrays by introducing labels of dimensions, coordinates, and attributes to the data. We use Xarray to create and manipulate datasets.\n",
    "- `import zarr`: Zarr is a cloud-based data format for chunked, compressed, N-dimensional arrays. The library allows efficient storage and access of large datasets. We use Zarr to store Xarray datasets in the easily accessible Zarr format.\n",
    "\n",
    "\n",
    "- `from os import path`: The OS library provides functions for interacting with the operating system, and the Path submodule is specifically useful in pathname manipulations. We use path to check whether a file or directory exists and avoid recomputations.\n",
    "\n",
    "- `import matplotlib.pyplot as plt`: Matplotlib is a powerful plotting library, and the pyplot module introduces a collection of functions that allows MATLAB-like plotting. We use pyplot to visualize our data and results.\n",
    "\n",
    "- `import tensorflow as tf`: Tensorflow is a machine learning framework for building and training deep learning neural network models. This library is the basis of building the U-Net model.\n",
    "- `from keras import Input`: Keras is a high-level neural networks API that runs on top of tensorflow. Input is a tensor-like object that defines the attributes of the input data, such as shape and datatype. We also use it to create models with a defined output using `tf.keras.Model()`.\n",
    "- `import keras.layers as layers`: The layers module provides various neural network layers, which are used for building the U-Net model.\n",
    "- `from keras.callbacks import EarlyStopping`: Earlystopping is a regularization technique that monitors the model's performance during training and stops the training process when the model stops improving. We use earlystopping to improve efficiency and prevent overfitting.\n",
    "\n",
    "- `import cartopy.crs as ccrs`: This module provides classes and functions to define and manipulate different coordinate reference systems (CRS). We use ccrs to define map projections (PlateCarree, or the equirectangular projection or geographic projection) and transfer the coordinates when plotting results.\n",
    "- `import cartopy.feature as cfeature`: This module provides access to various geographical features like coastlines, borders, rivers, and landforms. These features can be added to maps to provide context or enhance the visualization. We use cfeature specifically for plotting coastlines during evaluation."
   ]
  },
  {
   "cell_type": "code",
   "execution_count": null,
   "id": "b33d67a5-9b3b-44ca-87bf-d1383e5a89a3",
   "metadata": {},
   "outputs": [],
   "source": []
  }
 ],
 "metadata": {
  "kernelspec": {
   "display_name": "Python 3 (ipykernel)",
   "language": "python",
   "name": "python3"
  },
  "language_info": {
   "codemirror_mode": {
    "name": "ipython",
    "version": 3
   },
   "file_extension": ".py",
   "mimetype": "text/x-python",
   "name": "python",
   "nbconvert_exporter": "python",
   "pygments_lexer": "ipython3",
   "version": "3.12.11"
  }
 },
 "nbformat": 4,
 "nbformat_minor": 5
}
